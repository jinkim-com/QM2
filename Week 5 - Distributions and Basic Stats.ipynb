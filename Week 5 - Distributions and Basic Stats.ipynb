{
  "cells": [
    {
      "cell_type": "markdown",
      "metadata": {
        "id": "view-in-github",
        "colab_type": "text"
      },
      "source": [
        "<a href=\"https://colab.research.google.com/github/jinkim-com/QM2/blob/main/Week%205%20-%20Distributions%20and%20Basic%20Stats.ipynb\" target=\"_parent\"><img src=\"https://colab.research.google.com/assets/colab-badge.svg\" alt=\"Open In Colab\"/></a>"
      ]
    },
    {
      "cell_type": "markdown",
      "metadata": {
        "id": "Lads9rv6exJ-"
      },
      "source": [
        "# Distributions and Basic Statistics\n",
        "\n",
        "## *Workshop 5*  [![Open In Colab](https://github.com/oballinger/QM2/blob/main/colab-badge.png?raw=1)](https://colab.research.google.com/github/oballinger/QM2/blob/main/notebooks/W05.%20Distributions%20and%20Basic%20Statistics.ipynb)\n",
        "\n",
        "For the rest of this course, we'll be working with data from the U.S. Census [Current Population Survey (CPS)](https://www.census.gov/programs-surveys/cps.html).\n",
        "\n",
        "### Aims:\n",
        "\n",
        "- Choosing appropriate summary statistics for varying distributions\n",
        "\n",
        "- Understanding:\n",
        "    - The nature of our dataset, including potential bias\n",
        "    - How to generate summary statistics for our dataset\n",
        "    - The distribution of different variables\n",
        "    - The intuition behind the Central Limit Theorem\n",
        "\n",
        "## Getting Started\n",
        "\n",
        "### First Things First: Bias\n",
        "Once we've acquired a dataset, the first step is *always* to develop an understanding of where the data has come from. For this dataset, use the following [documentation page](https://www.census.gov/programs-surveys/cps/technical-documentation/methodology.html) to answer the questions below:\n",
        "\n",
        "1) What is the population of interest?\n",
        "2) What was the sampling strategy?\n",
        "3) What are potential sources of selection bias?"
      ]
    },
    {
      "cell_type": "markdown",
      "metadata": {
        "id": "5KugRUBXRUqf"
      },
      "source": [
        "I'll start by importing the libraries I need: matplotlib (for graphs), pandas (for data), numpy (for maths) and random (for generating random numbers):"
      ]
    },
    {
      "cell_type": "code",
      "execution_count": 1,
      "metadata": {
        "id": "5ERdQ-QjexKB"
      },
      "outputs": [],
      "source": [
        "#This tells python to draw the graphs \"inline\" - in the notebook\n",
        "%matplotlib inline\n",
        "import matplotlib.pyplot as plt\n",
        "from scipy.stats import norm\n",
        "import statistics\n",
        "import seaborn as sns\n",
        "\n",
        "import pylab\n",
        "import pandas as pd\n",
        "import numpy as np\n",
        "# make the plots (graphs) a little wider by default\n",
        "pylab.rcParams['figure.figsize'] = (10., 8.)\n",
        "sns.set(font_scale=1.5)\n",
        "sns.set_style(\"white\")"
      ]
    },
    {
      "cell_type": "markdown",
      "metadata": {
        "id": "WF91-0u5exKF"
      },
      "source": [
        "Now that I've imported the libraries I'm going to be using, I'm ready to import the data:"
      ]
    },
    {
      "cell_type": "code",
      "execution_count": 2,
      "metadata": {
        "colab": {
          "base_uri": "https://localhost:8080/",
          "height": 206
        },
        "id": "muDRf4bjexKG",
        "outputId": "59d39986-86b1-486b-b50e-40691d3e7649"
      },
      "outputs": [
        {
          "output_type": "execute_result",
          "data": {
            "text/plain": [
              "   year  state  age  sex  race   sch   ind  union  incwage  realhrwage  \\\n",
              "0  1990     36   58    1     3  12.0   871    0.0  14200.0   12.269874   \n",
              "1  2009      5   28    1     1  12.0  8660    1.0  17680.0    8.635149   \n",
              "2  1990     36   37    1     1  14.0   380    1.0  28000.0   21.169851   \n",
              "3  1990      6   34    1     1  18.0   740    1.0  27500.0   20.447746   \n",
              "4  1981     51   38    1     4  13.0   798    NaN  17000.0   18.892282   \n",
              "\n",
              "                      occupation  \n",
              "0       Office and Admin Support  \n",
              "1       Office and Admin Support  \n",
              "2                              .  \n",
              "3  Computer and Math Technicians  \n",
              "4                       Managers  "
            ],
            "text/html": [
              "\n",
              "  <div id=\"df-c39c7037-7d9c-4bab-8357-01c2d1915755\" class=\"colab-df-container\">\n",
              "    <div>\n",
              "<style scoped>\n",
              "    .dataframe tbody tr th:only-of-type {\n",
              "        vertical-align: middle;\n",
              "    }\n",
              "\n",
              "    .dataframe tbody tr th {\n",
              "        vertical-align: top;\n",
              "    }\n",
              "\n",
              "    .dataframe thead th {\n",
              "        text-align: right;\n",
              "    }\n",
              "</style>\n",
              "<table border=\"1\" class=\"dataframe\">\n",
              "  <thead>\n",
              "    <tr style=\"text-align: right;\">\n",
              "      <th></th>\n",
              "      <th>year</th>\n",
              "      <th>state</th>\n",
              "      <th>age</th>\n",
              "      <th>sex</th>\n",
              "      <th>race</th>\n",
              "      <th>sch</th>\n",
              "      <th>ind</th>\n",
              "      <th>union</th>\n",
              "      <th>incwage</th>\n",
              "      <th>realhrwage</th>\n",
              "      <th>occupation</th>\n",
              "    </tr>\n",
              "  </thead>\n",
              "  <tbody>\n",
              "    <tr>\n",
              "      <th>0</th>\n",
              "      <td>1990</td>\n",
              "      <td>36</td>\n",
              "      <td>58</td>\n",
              "      <td>1</td>\n",
              "      <td>3</td>\n",
              "      <td>12.0</td>\n",
              "      <td>871</td>\n",
              "      <td>0.0</td>\n",
              "      <td>14200.0</td>\n",
              "      <td>12.269874</td>\n",
              "      <td>Office and Admin Support</td>\n",
              "    </tr>\n",
              "    <tr>\n",
              "      <th>1</th>\n",
              "      <td>2009</td>\n",
              "      <td>5</td>\n",
              "      <td>28</td>\n",
              "      <td>1</td>\n",
              "      <td>1</td>\n",
              "      <td>12.0</td>\n",
              "      <td>8660</td>\n",
              "      <td>1.0</td>\n",
              "      <td>17680.0</td>\n",
              "      <td>8.635149</td>\n",
              "      <td>Office and Admin Support</td>\n",
              "    </tr>\n",
              "    <tr>\n",
              "      <th>2</th>\n",
              "      <td>1990</td>\n",
              "      <td>36</td>\n",
              "      <td>37</td>\n",
              "      <td>1</td>\n",
              "      <td>1</td>\n",
              "      <td>14.0</td>\n",
              "      <td>380</td>\n",
              "      <td>1.0</td>\n",
              "      <td>28000.0</td>\n",
              "      <td>21.169851</td>\n",
              "      <td>.</td>\n",
              "    </tr>\n",
              "    <tr>\n",
              "      <th>3</th>\n",
              "      <td>1990</td>\n",
              "      <td>6</td>\n",
              "      <td>34</td>\n",
              "      <td>1</td>\n",
              "      <td>1</td>\n",
              "      <td>18.0</td>\n",
              "      <td>740</td>\n",
              "      <td>1.0</td>\n",
              "      <td>27500.0</td>\n",
              "      <td>20.447746</td>\n",
              "      <td>Computer and Math Technicians</td>\n",
              "    </tr>\n",
              "    <tr>\n",
              "      <th>4</th>\n",
              "      <td>1981</td>\n",
              "      <td>51</td>\n",
              "      <td>38</td>\n",
              "      <td>1</td>\n",
              "      <td>4</td>\n",
              "      <td>13.0</td>\n",
              "      <td>798</td>\n",
              "      <td>NaN</td>\n",
              "      <td>17000.0</td>\n",
              "      <td>18.892282</td>\n",
              "      <td>Managers</td>\n",
              "    </tr>\n",
              "  </tbody>\n",
              "</table>\n",
              "</div>\n",
              "    <div class=\"colab-df-buttons\">\n",
              "\n",
              "  <div class=\"colab-df-container\">\n",
              "    <button class=\"colab-df-convert\" onclick=\"convertToInteractive('df-c39c7037-7d9c-4bab-8357-01c2d1915755')\"\n",
              "            title=\"Convert this dataframe to an interactive table.\"\n",
              "            style=\"display:none;\">\n",
              "\n",
              "  <svg xmlns=\"http://www.w3.org/2000/svg\" height=\"24px\" viewBox=\"0 -960 960 960\">\n",
              "    <path d=\"M120-120v-720h720v720H120Zm60-500h600v-160H180v160Zm220 220h160v-160H400v160Zm0 220h160v-160H400v160ZM180-400h160v-160H180v160Zm440 0h160v-160H620v160ZM180-180h160v-160H180v160Zm440 0h160v-160H620v160Z\"/>\n",
              "  </svg>\n",
              "    </button>\n",
              "\n",
              "  <style>\n",
              "    .colab-df-container {\n",
              "      display:flex;\n",
              "      gap: 12px;\n",
              "    }\n",
              "\n",
              "    .colab-df-convert {\n",
              "      background-color: #E8F0FE;\n",
              "      border: none;\n",
              "      border-radius: 50%;\n",
              "      cursor: pointer;\n",
              "      display: none;\n",
              "      fill: #1967D2;\n",
              "      height: 32px;\n",
              "      padding: 0 0 0 0;\n",
              "      width: 32px;\n",
              "    }\n",
              "\n",
              "    .colab-df-convert:hover {\n",
              "      background-color: #E2EBFA;\n",
              "      box-shadow: 0px 1px 2px rgba(60, 64, 67, 0.3), 0px 1px 3px 1px rgba(60, 64, 67, 0.15);\n",
              "      fill: #174EA6;\n",
              "    }\n",
              "\n",
              "    .colab-df-buttons div {\n",
              "      margin-bottom: 4px;\n",
              "    }\n",
              "\n",
              "    [theme=dark] .colab-df-convert {\n",
              "      background-color: #3B4455;\n",
              "      fill: #D2E3FC;\n",
              "    }\n",
              "\n",
              "    [theme=dark] .colab-df-convert:hover {\n",
              "      background-color: #434B5C;\n",
              "      box-shadow: 0px 1px 3px 1px rgba(0, 0, 0, 0.15);\n",
              "      filter: drop-shadow(0px 1px 2px rgba(0, 0, 0, 0.3));\n",
              "      fill: #FFFFFF;\n",
              "    }\n",
              "  </style>\n",
              "\n",
              "    <script>\n",
              "      const buttonEl =\n",
              "        document.querySelector('#df-c39c7037-7d9c-4bab-8357-01c2d1915755 button.colab-df-convert');\n",
              "      buttonEl.style.display =\n",
              "        google.colab.kernel.accessAllowed ? 'block' : 'none';\n",
              "\n",
              "      async function convertToInteractive(key) {\n",
              "        const element = document.querySelector('#df-c39c7037-7d9c-4bab-8357-01c2d1915755');\n",
              "        const dataTable =\n",
              "          await google.colab.kernel.invokeFunction('convertToInteractive',\n",
              "                                                    [key], {});\n",
              "        if (!dataTable) return;\n",
              "\n",
              "        const docLinkHtml = 'Like what you see? Visit the ' +\n",
              "          '<a target=\"_blank\" href=https://colab.research.google.com/notebooks/data_table.ipynb>data table notebook</a>'\n",
              "          + ' to learn more about interactive tables.';\n",
              "        element.innerHTML = '';\n",
              "        dataTable['output_type'] = 'display_data';\n",
              "        await google.colab.output.renderOutput(dataTable, element);\n",
              "        const docLink = document.createElement('div');\n",
              "        docLink.innerHTML = docLinkHtml;\n",
              "        element.appendChild(docLink);\n",
              "      }\n",
              "    </script>\n",
              "  </div>\n",
              "\n",
              "\n",
              "<div id=\"df-278a4540-f822-4e39-a5df-8c9900b4e41e\">\n",
              "  <button class=\"colab-df-quickchart\" onclick=\"quickchart('df-278a4540-f822-4e39-a5df-8c9900b4e41e')\"\n",
              "            title=\"Suggest charts\"\n",
              "            style=\"display:none;\">\n",
              "\n",
              "<svg xmlns=\"http://www.w3.org/2000/svg\" height=\"24px\"viewBox=\"0 0 24 24\"\n",
              "     width=\"24px\">\n",
              "    <g>\n",
              "        <path d=\"M19 3H5c-1.1 0-2 .9-2 2v14c0 1.1.9 2 2 2h14c1.1 0 2-.9 2-2V5c0-1.1-.9-2-2-2zM9 17H7v-7h2v7zm4 0h-2V7h2v10zm4 0h-2v-4h2v4z\"/>\n",
              "    </g>\n",
              "</svg>\n",
              "  </button>\n",
              "\n",
              "<style>\n",
              "  .colab-df-quickchart {\n",
              "      --bg-color: #E8F0FE;\n",
              "      --fill-color: #1967D2;\n",
              "      --hover-bg-color: #E2EBFA;\n",
              "      --hover-fill-color: #174EA6;\n",
              "      --disabled-fill-color: #AAA;\n",
              "      --disabled-bg-color: #DDD;\n",
              "  }\n",
              "\n",
              "  [theme=dark] .colab-df-quickchart {\n",
              "      --bg-color: #3B4455;\n",
              "      --fill-color: #D2E3FC;\n",
              "      --hover-bg-color: #434B5C;\n",
              "      --hover-fill-color: #FFFFFF;\n",
              "      --disabled-bg-color: #3B4455;\n",
              "      --disabled-fill-color: #666;\n",
              "  }\n",
              "\n",
              "  .colab-df-quickchart {\n",
              "    background-color: var(--bg-color);\n",
              "    border: none;\n",
              "    border-radius: 50%;\n",
              "    cursor: pointer;\n",
              "    display: none;\n",
              "    fill: var(--fill-color);\n",
              "    height: 32px;\n",
              "    padding: 0;\n",
              "    width: 32px;\n",
              "  }\n",
              "\n",
              "  .colab-df-quickchart:hover {\n",
              "    background-color: var(--hover-bg-color);\n",
              "    box-shadow: 0 1px 2px rgba(60, 64, 67, 0.3), 0 1px 3px 1px rgba(60, 64, 67, 0.15);\n",
              "    fill: var(--button-hover-fill-color);\n",
              "  }\n",
              "\n",
              "  .colab-df-quickchart-complete:disabled,\n",
              "  .colab-df-quickchart-complete:disabled:hover {\n",
              "    background-color: var(--disabled-bg-color);\n",
              "    fill: var(--disabled-fill-color);\n",
              "    box-shadow: none;\n",
              "  }\n",
              "\n",
              "  .colab-df-spinner {\n",
              "    border: 2px solid var(--fill-color);\n",
              "    border-color: transparent;\n",
              "    border-bottom-color: var(--fill-color);\n",
              "    animation:\n",
              "      spin 1s steps(1) infinite;\n",
              "  }\n",
              "\n",
              "  @keyframes spin {\n",
              "    0% {\n",
              "      border-color: transparent;\n",
              "      border-bottom-color: var(--fill-color);\n",
              "      border-left-color: var(--fill-color);\n",
              "    }\n",
              "    20% {\n",
              "      border-color: transparent;\n",
              "      border-left-color: var(--fill-color);\n",
              "      border-top-color: var(--fill-color);\n",
              "    }\n",
              "    30% {\n",
              "      border-color: transparent;\n",
              "      border-left-color: var(--fill-color);\n",
              "      border-top-color: var(--fill-color);\n",
              "      border-right-color: var(--fill-color);\n",
              "    }\n",
              "    40% {\n",
              "      border-color: transparent;\n",
              "      border-right-color: var(--fill-color);\n",
              "      border-top-color: var(--fill-color);\n",
              "    }\n",
              "    60% {\n",
              "      border-color: transparent;\n",
              "      border-right-color: var(--fill-color);\n",
              "    }\n",
              "    80% {\n",
              "      border-color: transparent;\n",
              "      border-right-color: var(--fill-color);\n",
              "      border-bottom-color: var(--fill-color);\n",
              "    }\n",
              "    90% {\n",
              "      border-color: transparent;\n",
              "      border-bottom-color: var(--fill-color);\n",
              "    }\n",
              "  }\n",
              "</style>\n",
              "\n",
              "  <script>\n",
              "    async function quickchart(key) {\n",
              "      const quickchartButtonEl =\n",
              "        document.querySelector('#' + key + ' button');\n",
              "      quickchartButtonEl.disabled = true;  // To prevent multiple clicks.\n",
              "      quickchartButtonEl.classList.add('colab-df-spinner');\n",
              "      try {\n",
              "        const charts = await google.colab.kernel.invokeFunction(\n",
              "            'suggestCharts', [key], {});\n",
              "      } catch (error) {\n",
              "        console.error('Error during call to suggestCharts:', error);\n",
              "      }\n",
              "      quickchartButtonEl.classList.remove('colab-df-spinner');\n",
              "      quickchartButtonEl.classList.add('colab-df-quickchart-complete');\n",
              "    }\n",
              "    (() => {\n",
              "      let quickchartButtonEl =\n",
              "        document.querySelector('#df-278a4540-f822-4e39-a5df-8c9900b4e41e button');\n",
              "      quickchartButtonEl.style.display =\n",
              "        google.colab.kernel.accessAllowed ? 'block' : 'none';\n",
              "    })();\n",
              "  </script>\n",
              "</div>\n",
              "\n",
              "    </div>\n",
              "  </div>\n"
            ],
            "application/vnd.google.colaboratory.intrinsic+json": {
              "type": "dataframe",
              "variable_name": "df"
            }
          },
          "metadata": {},
          "execution_count": 2
        }
      ],
      "source": [
        "df=pd.read_csv('https://storage.googleapis.com/qm2/wk7/cps.csv')\n",
        "df.head()"
      ]
    },
    {
      "cell_type": "markdown",
      "metadata": {
        "id": "E9YTGTBCRUqh"
      },
      "source": [
        "Our dataframe has 10 columns:\n",
        "\n",
        "1. *year*: Survey year\n",
        "2. *age*: the person's age\n",
        "3. *sex*: the person's sex\n",
        "    * 1=male\n",
        "    * 2=female\n",
        "4. *race*: the person's race\n",
        "    * White non hispanic=1\n",
        "    * Black non hispanic=2\n",
        "    * Hispanic=3\n",
        "    * Other non hispanic=4)\n",
        "5. *sch*: Educational attainment\n",
        "    * None = 0,\n",
        "    * Grades 1-12 = 1-12\n",
        "    * Some University = 13,\n",
        "    * Associate's degree = 14,\n",
        "    * BA = 16\n",
        "    * Advanced Degree = 18\n",
        "6. *union*: Union membership\n",
        "    * N/A = 0,\n",
        "    * No union coverage = 1,\n",
        "    * Member of labor union=2,\n",
        "    * Covered by union but not a member=3\n",
        "7. *incwage*: Wage and salary income\n",
        "8. *realhrwage*: Real Hourly Wage\n",
        "9. *occupation*: Occupation\n",
        "10. *ind*: [industry code](https://www.census.gov/naics/?58967?yearbck=2002)"
      ]
    },
    {
      "cell_type": "markdown",
      "metadata": {
        "id": "lSxULT0FexKJ"
      },
      "source": [
        "\n",
        "## Summary Statistics\n",
        "\n",
        "After thinking about the origins of our dataset and loading it into python, the next step is to generate summary statistics. This is vital for us to better understand our data. Pandas has a useful function, `describe`, which will generate summary statistics for all numerical variables in our entire dataframe:"
      ]
    },
    {
      "cell_type": "code",
      "execution_count": 3,
      "metadata": {
        "colab": {
          "base_uri": "https://localhost:8080/",
          "height": 300
        },
        "id": "UF4J5mobexKK",
        "outputId": "6412c0f5-a861-4a2f-d207-8795fc5cf41d"
      },
      "outputs": [
        {
          "output_type": "execute_result",
          "data": {
            "text/plain": [
              "                year          state            age            sex  \\\n",
              "count  344287.000000  344287.000000  344287.000000  344287.000000   \n",
              "mean     2002.599122      28.121004      41.734364       1.489057   \n",
              "std        10.831555      15.818556      10.415874       0.499881   \n",
              "min      1981.000000       1.000000      25.000000       1.000000   \n",
              "25%      1990.000000      13.000000      33.000000       1.000000   \n",
              "50%      2007.000000      28.000000      41.000000       1.000000   \n",
              "75%      2011.000000      41.000000      50.000000       2.000000   \n",
              "max      2013.000000      56.000000      64.000000       2.000000   \n",
              "\n",
              "                race            sch            ind          union  \\\n",
              "count  344287.000000  344287.000000  344287.000000  301908.000000   \n",
              "mean        1.570077      13.498057    4235.846009       0.221505   \n",
              "std         0.952252       2.799038    3468.163157       0.499690   \n",
              "min         1.000000       0.000000      10.000000       0.000000   \n",
              "25%         1.000000      12.000000     760.000000       0.000000   \n",
              "50%         1.000000      13.000000    4270.000000       0.000000   \n",
              "75%         2.000000      16.000000    7860.000000       0.000000   \n",
              "max         4.000000      18.000000    9590.000000       3.000000   \n",
              "\n",
              "            incwage     realhrwage  \n",
              "count  3.442870e+05  344287.000000  \n",
              "mean   3.976170e+04      22.886629  \n",
              "std    4.529758e+04     506.489695  \n",
              "min    1.500000e+01       2.000000  \n",
              "25%    1.670000e+04      11.723004  \n",
              "50%    3.000000e+04      17.698591  \n",
              "75%    5.000000e+04      26.442308  \n",
              "max    1.259999e+06  294610.968750  "
            ],
            "text/html": [
              "\n",
              "  <div id=\"df-50dc47e9-78fa-4a0a-b912-473d37906351\" class=\"colab-df-container\">\n",
              "    <div>\n",
              "<style scoped>\n",
              "    .dataframe tbody tr th:only-of-type {\n",
              "        vertical-align: middle;\n",
              "    }\n",
              "\n",
              "    .dataframe tbody tr th {\n",
              "        vertical-align: top;\n",
              "    }\n",
              "\n",
              "    .dataframe thead th {\n",
              "        text-align: right;\n",
              "    }\n",
              "</style>\n",
              "<table border=\"1\" class=\"dataframe\">\n",
              "  <thead>\n",
              "    <tr style=\"text-align: right;\">\n",
              "      <th></th>\n",
              "      <th>year</th>\n",
              "      <th>state</th>\n",
              "      <th>age</th>\n",
              "      <th>sex</th>\n",
              "      <th>race</th>\n",
              "      <th>sch</th>\n",
              "      <th>ind</th>\n",
              "      <th>union</th>\n",
              "      <th>incwage</th>\n",
              "      <th>realhrwage</th>\n",
              "    </tr>\n",
              "  </thead>\n",
              "  <tbody>\n",
              "    <tr>\n",
              "      <th>count</th>\n",
              "      <td>344287.000000</td>\n",
              "      <td>344287.000000</td>\n",
              "      <td>344287.000000</td>\n",
              "      <td>344287.000000</td>\n",
              "      <td>344287.000000</td>\n",
              "      <td>344287.000000</td>\n",
              "      <td>344287.000000</td>\n",
              "      <td>301908.000000</td>\n",
              "      <td>3.442870e+05</td>\n",
              "      <td>344287.000000</td>\n",
              "    </tr>\n",
              "    <tr>\n",
              "      <th>mean</th>\n",
              "      <td>2002.599122</td>\n",
              "      <td>28.121004</td>\n",
              "      <td>41.734364</td>\n",
              "      <td>1.489057</td>\n",
              "      <td>1.570077</td>\n",
              "      <td>13.498057</td>\n",
              "      <td>4235.846009</td>\n",
              "      <td>0.221505</td>\n",
              "      <td>3.976170e+04</td>\n",
              "      <td>22.886629</td>\n",
              "    </tr>\n",
              "    <tr>\n",
              "      <th>std</th>\n",
              "      <td>10.831555</td>\n",
              "      <td>15.818556</td>\n",
              "      <td>10.415874</td>\n",
              "      <td>0.499881</td>\n",
              "      <td>0.952252</td>\n",
              "      <td>2.799038</td>\n",
              "      <td>3468.163157</td>\n",
              "      <td>0.499690</td>\n",
              "      <td>4.529758e+04</td>\n",
              "      <td>506.489695</td>\n",
              "    </tr>\n",
              "    <tr>\n",
              "      <th>min</th>\n",
              "      <td>1981.000000</td>\n",
              "      <td>1.000000</td>\n",
              "      <td>25.000000</td>\n",
              "      <td>1.000000</td>\n",
              "      <td>1.000000</td>\n",
              "      <td>0.000000</td>\n",
              "      <td>10.000000</td>\n",
              "      <td>0.000000</td>\n",
              "      <td>1.500000e+01</td>\n",
              "      <td>2.000000</td>\n",
              "    </tr>\n",
              "    <tr>\n",
              "      <th>25%</th>\n",
              "      <td>1990.000000</td>\n",
              "      <td>13.000000</td>\n",
              "      <td>33.000000</td>\n",
              "      <td>1.000000</td>\n",
              "      <td>1.000000</td>\n",
              "      <td>12.000000</td>\n",
              "      <td>760.000000</td>\n",
              "      <td>0.000000</td>\n",
              "      <td>1.670000e+04</td>\n",
              "      <td>11.723004</td>\n",
              "    </tr>\n",
              "    <tr>\n",
              "      <th>50%</th>\n",
              "      <td>2007.000000</td>\n",
              "      <td>28.000000</td>\n",
              "      <td>41.000000</td>\n",
              "      <td>1.000000</td>\n",
              "      <td>1.000000</td>\n",
              "      <td>13.000000</td>\n",
              "      <td>4270.000000</td>\n",
              "      <td>0.000000</td>\n",
              "      <td>3.000000e+04</td>\n",
              "      <td>17.698591</td>\n",
              "    </tr>\n",
              "    <tr>\n",
              "      <th>75%</th>\n",
              "      <td>2011.000000</td>\n",
              "      <td>41.000000</td>\n",
              "      <td>50.000000</td>\n",
              "      <td>2.000000</td>\n",
              "      <td>2.000000</td>\n",
              "      <td>16.000000</td>\n",
              "      <td>7860.000000</td>\n",
              "      <td>0.000000</td>\n",
              "      <td>5.000000e+04</td>\n",
              "      <td>26.442308</td>\n",
              "    </tr>\n",
              "    <tr>\n",
              "      <th>max</th>\n",
              "      <td>2013.000000</td>\n",
              "      <td>56.000000</td>\n",
              "      <td>64.000000</td>\n",
              "      <td>2.000000</td>\n",
              "      <td>4.000000</td>\n",
              "      <td>18.000000</td>\n",
              "      <td>9590.000000</td>\n",
              "      <td>3.000000</td>\n",
              "      <td>1.259999e+06</td>\n",
              "      <td>294610.968750</td>\n",
              "    </tr>\n",
              "  </tbody>\n",
              "</table>\n",
              "</div>\n",
              "    <div class=\"colab-df-buttons\">\n",
              "\n",
              "  <div class=\"colab-df-container\">\n",
              "    <button class=\"colab-df-convert\" onclick=\"convertToInteractive('df-50dc47e9-78fa-4a0a-b912-473d37906351')\"\n",
              "            title=\"Convert this dataframe to an interactive table.\"\n",
              "            style=\"display:none;\">\n",
              "\n",
              "  <svg xmlns=\"http://www.w3.org/2000/svg\" height=\"24px\" viewBox=\"0 -960 960 960\">\n",
              "    <path d=\"M120-120v-720h720v720H120Zm60-500h600v-160H180v160Zm220 220h160v-160H400v160Zm0 220h160v-160H400v160ZM180-400h160v-160H180v160Zm440 0h160v-160H620v160ZM180-180h160v-160H180v160Zm440 0h160v-160H620v160Z\"/>\n",
              "  </svg>\n",
              "    </button>\n",
              "\n",
              "  <style>\n",
              "    .colab-df-container {\n",
              "      display:flex;\n",
              "      gap: 12px;\n",
              "    }\n",
              "\n",
              "    .colab-df-convert {\n",
              "      background-color: #E8F0FE;\n",
              "      border: none;\n",
              "      border-radius: 50%;\n",
              "      cursor: pointer;\n",
              "      display: none;\n",
              "      fill: #1967D2;\n",
              "      height: 32px;\n",
              "      padding: 0 0 0 0;\n",
              "      width: 32px;\n",
              "    }\n",
              "\n",
              "    .colab-df-convert:hover {\n",
              "      background-color: #E2EBFA;\n",
              "      box-shadow: 0px 1px 2px rgba(60, 64, 67, 0.3), 0px 1px 3px 1px rgba(60, 64, 67, 0.15);\n",
              "      fill: #174EA6;\n",
              "    }\n",
              "\n",
              "    .colab-df-buttons div {\n",
              "      margin-bottom: 4px;\n",
              "    }\n",
              "\n",
              "    [theme=dark] .colab-df-convert {\n",
              "      background-color: #3B4455;\n",
              "      fill: #D2E3FC;\n",
              "    }\n",
              "\n",
              "    [theme=dark] .colab-df-convert:hover {\n",
              "      background-color: #434B5C;\n",
              "      box-shadow: 0px 1px 3px 1px rgba(0, 0, 0, 0.15);\n",
              "      filter: drop-shadow(0px 1px 2px rgba(0, 0, 0, 0.3));\n",
              "      fill: #FFFFFF;\n",
              "    }\n",
              "  </style>\n",
              "\n",
              "    <script>\n",
              "      const buttonEl =\n",
              "        document.querySelector('#df-50dc47e9-78fa-4a0a-b912-473d37906351 button.colab-df-convert');\n",
              "      buttonEl.style.display =\n",
              "        google.colab.kernel.accessAllowed ? 'block' : 'none';\n",
              "\n",
              "      async function convertToInteractive(key) {\n",
              "        const element = document.querySelector('#df-50dc47e9-78fa-4a0a-b912-473d37906351');\n",
              "        const dataTable =\n",
              "          await google.colab.kernel.invokeFunction('convertToInteractive',\n",
              "                                                    [key], {});\n",
              "        if (!dataTable) return;\n",
              "\n",
              "        const docLinkHtml = 'Like what you see? Visit the ' +\n",
              "          '<a target=\"_blank\" href=https://colab.research.google.com/notebooks/data_table.ipynb>data table notebook</a>'\n",
              "          + ' to learn more about interactive tables.';\n",
              "        element.innerHTML = '';\n",
              "        dataTable['output_type'] = 'display_data';\n",
              "        await google.colab.output.renderOutput(dataTable, element);\n",
              "        const docLink = document.createElement('div');\n",
              "        docLink.innerHTML = docLinkHtml;\n",
              "        element.appendChild(docLink);\n",
              "      }\n",
              "    </script>\n",
              "  </div>\n",
              "\n",
              "\n",
              "<div id=\"df-09f4f243-beb7-4ff1-b9db-2b7ae150d10f\">\n",
              "  <button class=\"colab-df-quickchart\" onclick=\"quickchart('df-09f4f243-beb7-4ff1-b9db-2b7ae150d10f')\"\n",
              "            title=\"Suggest charts\"\n",
              "            style=\"display:none;\">\n",
              "\n",
              "<svg xmlns=\"http://www.w3.org/2000/svg\" height=\"24px\"viewBox=\"0 0 24 24\"\n",
              "     width=\"24px\">\n",
              "    <g>\n",
              "        <path d=\"M19 3H5c-1.1 0-2 .9-2 2v14c0 1.1.9 2 2 2h14c1.1 0 2-.9 2-2V5c0-1.1-.9-2-2-2zM9 17H7v-7h2v7zm4 0h-2V7h2v10zm4 0h-2v-4h2v4z\"/>\n",
              "    </g>\n",
              "</svg>\n",
              "  </button>\n",
              "\n",
              "<style>\n",
              "  .colab-df-quickchart {\n",
              "      --bg-color: #E8F0FE;\n",
              "      --fill-color: #1967D2;\n",
              "      --hover-bg-color: #E2EBFA;\n",
              "      --hover-fill-color: #174EA6;\n",
              "      --disabled-fill-color: #AAA;\n",
              "      --disabled-bg-color: #DDD;\n",
              "  }\n",
              "\n",
              "  [theme=dark] .colab-df-quickchart {\n",
              "      --bg-color: #3B4455;\n",
              "      --fill-color: #D2E3FC;\n",
              "      --hover-bg-color: #434B5C;\n",
              "      --hover-fill-color: #FFFFFF;\n",
              "      --disabled-bg-color: #3B4455;\n",
              "      --disabled-fill-color: #666;\n",
              "  }\n",
              "\n",
              "  .colab-df-quickchart {\n",
              "    background-color: var(--bg-color);\n",
              "    border: none;\n",
              "    border-radius: 50%;\n",
              "    cursor: pointer;\n",
              "    display: none;\n",
              "    fill: var(--fill-color);\n",
              "    height: 32px;\n",
              "    padding: 0;\n",
              "    width: 32px;\n",
              "  }\n",
              "\n",
              "  .colab-df-quickchart:hover {\n",
              "    background-color: var(--hover-bg-color);\n",
              "    box-shadow: 0 1px 2px rgba(60, 64, 67, 0.3), 0 1px 3px 1px rgba(60, 64, 67, 0.15);\n",
              "    fill: var(--button-hover-fill-color);\n",
              "  }\n",
              "\n",
              "  .colab-df-quickchart-complete:disabled,\n",
              "  .colab-df-quickchart-complete:disabled:hover {\n",
              "    background-color: var(--disabled-bg-color);\n",
              "    fill: var(--disabled-fill-color);\n",
              "    box-shadow: none;\n",
              "  }\n",
              "\n",
              "  .colab-df-spinner {\n",
              "    border: 2px solid var(--fill-color);\n",
              "    border-color: transparent;\n",
              "    border-bottom-color: var(--fill-color);\n",
              "    animation:\n",
              "      spin 1s steps(1) infinite;\n",
              "  }\n",
              "\n",
              "  @keyframes spin {\n",
              "    0% {\n",
              "      border-color: transparent;\n",
              "      border-bottom-color: var(--fill-color);\n",
              "      border-left-color: var(--fill-color);\n",
              "    }\n",
              "    20% {\n",
              "      border-color: transparent;\n",
              "      border-left-color: var(--fill-color);\n",
              "      border-top-color: var(--fill-color);\n",
              "    }\n",
              "    30% {\n",
              "      border-color: transparent;\n",
              "      border-left-color: var(--fill-color);\n",
              "      border-top-color: var(--fill-color);\n",
              "      border-right-color: var(--fill-color);\n",
              "    }\n",
              "    40% {\n",
              "      border-color: transparent;\n",
              "      border-right-color: var(--fill-color);\n",
              "      border-top-color: var(--fill-color);\n",
              "    }\n",
              "    60% {\n",
              "      border-color: transparent;\n",
              "      border-right-color: var(--fill-color);\n",
              "    }\n",
              "    80% {\n",
              "      border-color: transparent;\n",
              "      border-right-color: var(--fill-color);\n",
              "      border-bottom-color: var(--fill-color);\n",
              "    }\n",
              "    90% {\n",
              "      border-color: transparent;\n",
              "      border-bottom-color: var(--fill-color);\n",
              "    }\n",
              "  }\n",
              "</style>\n",
              "\n",
              "  <script>\n",
              "    async function quickchart(key) {\n",
              "      const quickchartButtonEl =\n",
              "        document.querySelector('#' + key + ' button');\n",
              "      quickchartButtonEl.disabled = true;  // To prevent multiple clicks.\n",
              "      quickchartButtonEl.classList.add('colab-df-spinner');\n",
              "      try {\n",
              "        const charts = await google.colab.kernel.invokeFunction(\n",
              "            'suggestCharts', [key], {});\n",
              "      } catch (error) {\n",
              "        console.error('Error during call to suggestCharts:', error);\n",
              "      }\n",
              "      quickchartButtonEl.classList.remove('colab-df-spinner');\n",
              "      quickchartButtonEl.classList.add('colab-df-quickchart-complete');\n",
              "    }\n",
              "    (() => {\n",
              "      let quickchartButtonEl =\n",
              "        document.querySelector('#df-09f4f243-beb7-4ff1-b9db-2b7ae150d10f button');\n",
              "      quickchartButtonEl.style.display =\n",
              "        google.colab.kernel.accessAllowed ? 'block' : 'none';\n",
              "    })();\n",
              "  </script>\n",
              "</div>\n",
              "\n",
              "    </div>\n",
              "  </div>\n"
            ],
            "application/vnd.google.colaboratory.intrinsic+json": {
              "type": "dataframe",
              "summary": "{\n  \"name\": \"df\",\n  \"rows\": 8,\n  \"fields\": [\n    {\n      \"column\": \"year\",\n      \"properties\": {\n        \"dtype\": \"number\",\n        \"std\": 121118.96744598847,\n        \"min\": 10.831554731396169,\n        \"max\": 344287.0,\n        \"num_unique_values\": 8,\n        \"samples\": [\n          2002.5991222439418,\n          2007.0,\n          344287.0\n        ],\n        \"semantic_type\": \"\",\n        \"description\": \"\"\n      }\n    },\n    {\n      \"column\": \"state\",\n      \"properties\": {\n        \"dtype\": \"number\",\n        \"std\": 121714.59753601601,\n        \"min\": 1.0,\n        \"max\": 344287.0,\n        \"num_unique_values\": 8,\n        \"samples\": [\n          28.121003697496565,\n          28.0,\n          344287.0\n        ],\n        \"semantic_type\": \"\",\n        \"description\": \"\"\n      }\n    },\n    {\n      \"column\": \"age\",\n      \"properties\": {\n        \"dtype\": \"number\",\n        \"std\": 121710.4451328353,\n        \"min\": 10.415874094107302,\n        \"max\": 344287.0,\n        \"num_unique_values\": 8,\n        \"samples\": [\n          41.73436406254085,\n          41.0,\n          344287.0\n        ],\n        \"semantic_type\": \"\",\n        \"description\": \"\"\n      }\n    },\n    {\n      \"column\": \"sex\",\n      \"properties\": {\n        \"dtype\": \"number\",\n        \"std\": 121723.38217838292,\n        \"min\": 0.4998809644495912,\n        \"max\": 344287.0,\n        \"num_unique_values\": 5,\n        \"samples\": [\n          1.4890570948075297,\n          2.0,\n          0.4998809644495912\n        ],\n        \"semantic_type\": \"\",\n        \"description\": \"\"\n      }\n    },\n    {\n      \"column\": \"race\",\n      \"properties\": {\n        \"dtype\": \"number\",\n        \"std\": 121723.2542260449,\n        \"min\": 0.9522520797465189,\n        \"max\": 344287.0,\n        \"num_unique_values\": 6,\n        \"samples\": [\n          344287.0,\n          1.5700767092571024,\n          4.0\n        ],\n        \"semantic_type\": \"\",\n        \"description\": \"\"\n      }\n    },\n    {\n      \"column\": \"sch\",\n      \"properties\": {\n        \"dtype\": \"number\",\n        \"std\": 121720.03326983003,\n        \"min\": 0.0,\n        \"max\": 344287.0,\n        \"num_unique_values\": 8,\n        \"samples\": [\n          13.498056853729592,\n          13.0,\n          344287.0\n        ],\n        \"semantic_type\": \"\",\n        \"description\": \"\"\n      }\n    },\n    {\n      \"column\": \"ind\",\n      \"properties\": {\n        \"dtype\": \"number\",\n        \"std\": 120241.7588134371,\n        \"min\": 10.0,\n        \"max\": 344287.0,\n        \"num_unique_values\": 8,\n        \"samples\": [\n          4235.846009288762,\n          4270.0,\n          344287.0\n        ],\n        \"semantic_type\": \"\",\n        \"description\": \"\"\n      }\n    },\n    {\n      \"column\": \"union\",\n      \"properties\": {\n        \"dtype\": \"number\",\n        \"std\": 106740.40910343907,\n        \"min\": 0.0,\n        \"max\": 301908.0,\n        \"num_unique_values\": 5,\n        \"samples\": [\n          0.2215045643043576,\n          3.0,\n          0.49968972134350975\n        ],\n        \"semantic_type\": \"\",\n        \"description\": \"\"\n      }\n    },\n    {\n      \"column\": \"incwage\",\n      \"properties\": {\n        \"dtype\": \"number\",\n        \"std\": 433374.03181475785,\n        \"min\": 15.0,\n        \"max\": 1259999.0,\n        \"num_unique_values\": 8,\n        \"samples\": [\n          39761.695274581965,\n          30000.0,\n          344287.0\n        ],\n        \"semantic_type\": \"\",\n        \"description\": \"\"\n      }\n    },\n    {\n      \"column\": \"realhrwage\",\n      \"properties\": {\n        \"dtype\": \"number\",\n        \"std\": 148425.90884902608,\n        \"min\": 2.0,\n        \"max\": 344287.0,\n        \"num_unique_values\": 8,\n        \"samples\": [\n          22.886629395171123,\n          17.6985912322998,\n          344287.0\n        ],\n        \"semantic_type\": \"\",\n        \"description\": \"\"\n      }\n    }\n  ]\n}"
            }
          },
          "metadata": {},
          "execution_count": 3
        }
      ],
      "source": [
        "df.describe()"
      ]
    },
    {
      "cell_type": "markdown",
      "metadata": {
        "id": "7LmZkRUWooyy"
      },
      "source": [
        "`describe` returns a dataframe with the same columns as the source dataframe. For numeric data, the result’s index will include count, mean, std, min, max as well as lower, 50 and upper percentiles. By default the lower percentile is 25 and the upper percentile is 75. The 50 percentile is the same as the median. \"incwage\" is the annual income variable. Because values are generally in the tens of thousands, Python displays this using scientific notation (e.g. 3.442870e+05). This is pretty ugly, so let's create a new variable called \"income\" which divides that number by 1000 to make it more manageable:"
      ]
    },
    {
      "cell_type": "code",
      "execution_count": 4,
      "metadata": {
        "colab": {
          "base_uri": "https://localhost:8080/"
        },
        "id": "emY_Ymgoojuc",
        "outputId": "84801790-0d92-4988-db04-e42451ec00b1"
      },
      "outputs": [
        {
          "output_type": "stream",
          "name": "stdout",
          "text": [
            "0         14.20\n",
            "1         17.68\n",
            "2         28.00\n",
            "3         27.50\n",
            "4         17.00\n",
            "          ...  \n",
            "344282    17.00\n",
            "344283     3.20\n",
            "344284    13.00\n",
            "344285     8.80\n",
            "344286    15.00\n",
            "Name: income, Length: 344287, dtype: float64\n"
          ]
        }
      ],
      "source": [
        "df['income']=df['incwage']/1000\n",
        "print(df['income'])"
      ]
    },
    {
      "cell_type": "markdown",
      "metadata": {
        "id": "4eNWg12yexKN"
      },
      "source": [
        "\n",
        "### Exercise\n",
        "Given these summary statistics, answer the following questions:\n",
        "\n",
        "1. what is the median hourly wage?\n",
        "2. what is the average age?\n",
        "3. are there more men or women?\n",
        "4. intepret the mean of the \"race\" column.\n"
      ]
    },
    {
      "cell_type": "markdown",
      "metadata": {
        "id": "QpmXB-BPoTT0"
      },
      "source": [
        "The answer to the last question should provoke some futher thought; the race column is categorical, but because it contains numbers it's being treated as numerical. The mean of a categorical variable is meaningless; For object data (e.g. categories, strings or timestamps), the result’s index will include count, unique, top, and freq. The top is the most common value. The freq is the most common value’s frequency. Timestamps also include the first and last items.\n",
        "\n",
        "Let's convert the race column from a numerical variable into a categorical one, and try `describe` once again:"
      ]
    },
    {
      "cell_type": "code",
      "execution_count": 5,
      "metadata": {
        "colab": {
          "base_uri": "https://localhost:8080/",
          "height": 460
        },
        "id": "bPz8p27bRUqj",
        "outputId": "bd5d6ef6-f28b-4fce-cd32-52077e2a6fa8"
      },
      "outputs": [
        {
          "output_type": "execute_result",
          "data": {
            "text/plain": [
              "year            int64\n",
              "state           int64\n",
              "age             int64\n",
              "sex             int64\n",
              "race            int64\n",
              "sch           float64\n",
              "ind             int64\n",
              "union         float64\n",
              "incwage       float64\n",
              "realhrwage    float64\n",
              "occupation     object\n",
              "income        float64\n",
              "dtype: object"
            ],
            "text/html": [
              "<div>\n",
              "<style scoped>\n",
              "    .dataframe tbody tr th:only-of-type {\n",
              "        vertical-align: middle;\n",
              "    }\n",
              "\n",
              "    .dataframe tbody tr th {\n",
              "        vertical-align: top;\n",
              "    }\n",
              "\n",
              "    .dataframe thead th {\n",
              "        text-align: right;\n",
              "    }\n",
              "</style>\n",
              "<table border=\"1\" class=\"dataframe\">\n",
              "  <thead>\n",
              "    <tr style=\"text-align: right;\">\n",
              "      <th></th>\n",
              "      <th>0</th>\n",
              "    </tr>\n",
              "  </thead>\n",
              "  <tbody>\n",
              "    <tr>\n",
              "      <th>year</th>\n",
              "      <td>int64</td>\n",
              "    </tr>\n",
              "    <tr>\n",
              "      <th>state</th>\n",
              "      <td>int64</td>\n",
              "    </tr>\n",
              "    <tr>\n",
              "      <th>age</th>\n",
              "      <td>int64</td>\n",
              "    </tr>\n",
              "    <tr>\n",
              "      <th>sex</th>\n",
              "      <td>int64</td>\n",
              "    </tr>\n",
              "    <tr>\n",
              "      <th>race</th>\n",
              "      <td>int64</td>\n",
              "    </tr>\n",
              "    <tr>\n",
              "      <th>sch</th>\n",
              "      <td>float64</td>\n",
              "    </tr>\n",
              "    <tr>\n",
              "      <th>ind</th>\n",
              "      <td>int64</td>\n",
              "    </tr>\n",
              "    <tr>\n",
              "      <th>union</th>\n",
              "      <td>float64</td>\n",
              "    </tr>\n",
              "    <tr>\n",
              "      <th>incwage</th>\n",
              "      <td>float64</td>\n",
              "    </tr>\n",
              "    <tr>\n",
              "      <th>realhrwage</th>\n",
              "      <td>float64</td>\n",
              "    </tr>\n",
              "    <tr>\n",
              "      <th>occupation</th>\n",
              "      <td>object</td>\n",
              "    </tr>\n",
              "    <tr>\n",
              "      <th>income</th>\n",
              "      <td>float64</td>\n",
              "    </tr>\n",
              "  </tbody>\n",
              "</table>\n",
              "</div><br><label><b>dtype:</b> object</label>"
            ]
          },
          "metadata": {},
          "execution_count": 5
        }
      ],
      "source": [
        "df.dtypes"
      ]
    },
    {
      "cell_type": "code",
      "execution_count": 6,
      "metadata": {
        "colab": {
          "base_uri": "https://localhost:8080/",
          "height": 210
        },
        "id": "FQor5bCEexKO",
        "outputId": "0f8cf896-4714-4fd3-d293-4140834a8d45"
      },
      "outputs": [
        {
          "output_type": "execute_result",
          "data": {
            "text/plain": [
              "count     344287\n",
              "unique         4\n",
              "top            1\n",
              "freq      240382\n",
              "Name: race, dtype: int64"
            ],
            "text/html": [
              "<div>\n",
              "<style scoped>\n",
              "    .dataframe tbody tr th:only-of-type {\n",
              "        vertical-align: middle;\n",
              "    }\n",
              "\n",
              "    .dataframe tbody tr th {\n",
              "        vertical-align: top;\n",
              "    }\n",
              "\n",
              "    .dataframe thead th {\n",
              "        text-align: right;\n",
              "    }\n",
              "</style>\n",
              "<table border=\"1\" class=\"dataframe\">\n",
              "  <thead>\n",
              "    <tr style=\"text-align: right;\">\n",
              "      <th></th>\n",
              "      <th>race</th>\n",
              "    </tr>\n",
              "  </thead>\n",
              "  <tbody>\n",
              "    <tr>\n",
              "      <th>count</th>\n",
              "      <td>344287</td>\n",
              "    </tr>\n",
              "    <tr>\n",
              "      <th>unique</th>\n",
              "      <td>4</td>\n",
              "    </tr>\n",
              "    <tr>\n",
              "      <th>top</th>\n",
              "      <td>1</td>\n",
              "    </tr>\n",
              "    <tr>\n",
              "      <th>freq</th>\n",
              "      <td>240382</td>\n",
              "    </tr>\n",
              "  </tbody>\n",
              "</table>\n",
              "</div><br><label><b>dtype:</b> int64</label>"
            ]
          },
          "metadata": {},
          "execution_count": 6
        }
      ],
      "source": [
        "df['race']=df['race'].astype('category')\n",
        "df['race'].describe()"
      ]
    },
    {
      "cell_type": "markdown",
      "metadata": {
        "id": "XL164t9CRUqj"
      },
      "source": [
        "what other variables are categorical? Convert them to categorical and describe. What is the most common occupation in this dataset?"
      ]
    },
    {
      "cell_type": "code",
      "execution_count": 7,
      "metadata": {
        "id": "PYdTjEvARUqj",
        "outputId": "37e2369b-871f-4546-e412-bd067eeeda5f",
        "colab": {
          "base_uri": "https://localhost:8080/",
          "height": 210
        }
      },
      "outputs": [
        {
          "output_type": "execute_result",
          "data": {
            "text/plain": [
              "count     344287\n",
              "unique        13\n",
              "top            .\n",
              "freq      132708\n",
              "Name: occupation, dtype: object"
            ],
            "text/html": [
              "<div>\n",
              "<style scoped>\n",
              "    .dataframe tbody tr th:only-of-type {\n",
              "        vertical-align: middle;\n",
              "    }\n",
              "\n",
              "    .dataframe tbody tr th {\n",
              "        vertical-align: top;\n",
              "    }\n",
              "\n",
              "    .dataframe thead th {\n",
              "        text-align: right;\n",
              "    }\n",
              "</style>\n",
              "<table border=\"1\" class=\"dataframe\">\n",
              "  <thead>\n",
              "    <tr style=\"text-align: right;\">\n",
              "      <th></th>\n",
              "      <th>occupation</th>\n",
              "    </tr>\n",
              "  </thead>\n",
              "  <tbody>\n",
              "    <tr>\n",
              "      <th>count</th>\n",
              "      <td>344287</td>\n",
              "    </tr>\n",
              "    <tr>\n",
              "      <th>unique</th>\n",
              "      <td>13</td>\n",
              "    </tr>\n",
              "    <tr>\n",
              "      <th>top</th>\n",
              "      <td>.</td>\n",
              "    </tr>\n",
              "    <tr>\n",
              "      <th>freq</th>\n",
              "      <td>132708</td>\n",
              "    </tr>\n",
              "  </tbody>\n",
              "</table>\n",
              "</div><br><label><b>dtype:</b> object</label>"
            ]
          },
          "metadata": {},
          "execution_count": 7
        }
      ],
      "source": [
        "# convert the variables to categorical and describe\n",
        "\n",
        "df['sex'] = df['sex'].astype('category')\n",
        "df['sch'] = df['sch'].astype('category')\n",
        "df['union'] = df['union'].astype('category')\n",
        "df['occupation'] = df['occupation'].astype('category')\n",
        "df['occupation'].describe()"
      ]
    },
    {
      "cell_type": "markdown",
      "metadata": {
        "id": "-sOhUmEgRUqj"
      },
      "source": [
        "These statistics are useful, but suppose we want detailed counts of the number of individuals in each category; For this, we can use the `groupby` function, with the `.size()` operator which simply counts the number of rows in each category."
      ]
    },
    {
      "cell_type": "code",
      "execution_count": 8,
      "metadata": {
        "colab": {
          "base_uri": "https://localhost:8080/",
          "height": 579
        },
        "id": "VHmlNoBpRUqj",
        "outputId": "647fa58e-4cfb-4633-b7b9-59711ef31577"
      },
      "outputs": [
        {
          "output_type": "stream",
          "name": "stderr",
          "text": [
            "<ipython-input-8-e970d5ab3e0e>:1: FutureWarning: The default of observed=False is deprecated and will be changed to True in a future version of pandas. Pass observed=False to retain current behavior or observed=True to adopt the future default and silence this warning.\n",
            "  occupations= df.groupby('occupation').size()\n"
          ]
        },
        {
          "output_type": "execute_result",
          "data": {
            "text/plain": [
              "occupation\n",
              ".                                         132708\n",
              "Office and Admin Support                   50635\n",
              "Managers                                   35696\n",
              "Consruction, Extraction, Installation      30579\n",
              "Production                                 29732\n",
              "Transportation and materials moving        21277\n",
              "Computer and Math Technicians               8602\n",
              "Protective Service adj_occupations          7809\n",
              "financial Operators                         7702\n",
              "Business Operators                          7327\n",
              "Community and Social Workers                6025\n",
              "Lawyers, Judges,Physicans and dentists      3835\n",
              "Farming, Fishing & Forestry                 2360\n",
              "dtype: int64"
            ],
            "text/html": [
              "<div>\n",
              "<style scoped>\n",
              "    .dataframe tbody tr th:only-of-type {\n",
              "        vertical-align: middle;\n",
              "    }\n",
              "\n",
              "    .dataframe tbody tr th {\n",
              "        vertical-align: top;\n",
              "    }\n",
              "\n",
              "    .dataframe thead th {\n",
              "        text-align: right;\n",
              "    }\n",
              "</style>\n",
              "<table border=\"1\" class=\"dataframe\">\n",
              "  <thead>\n",
              "    <tr style=\"text-align: right;\">\n",
              "      <th></th>\n",
              "      <th>0</th>\n",
              "    </tr>\n",
              "    <tr>\n",
              "      <th>occupation</th>\n",
              "      <th></th>\n",
              "    </tr>\n",
              "  </thead>\n",
              "  <tbody>\n",
              "    <tr>\n",
              "      <th>.</th>\n",
              "      <td>132708</td>\n",
              "    </tr>\n",
              "    <tr>\n",
              "      <th>Office and Admin Support</th>\n",
              "      <td>50635</td>\n",
              "    </tr>\n",
              "    <tr>\n",
              "      <th>Managers</th>\n",
              "      <td>35696</td>\n",
              "    </tr>\n",
              "    <tr>\n",
              "      <th>Consruction, Extraction, Installation</th>\n",
              "      <td>30579</td>\n",
              "    </tr>\n",
              "    <tr>\n",
              "      <th>Production</th>\n",
              "      <td>29732</td>\n",
              "    </tr>\n",
              "    <tr>\n",
              "      <th>Transportation and materials moving</th>\n",
              "      <td>21277</td>\n",
              "    </tr>\n",
              "    <tr>\n",
              "      <th>Computer and Math Technicians</th>\n",
              "      <td>8602</td>\n",
              "    </tr>\n",
              "    <tr>\n",
              "      <th>Protective Service adj_occupations</th>\n",
              "      <td>7809</td>\n",
              "    </tr>\n",
              "    <tr>\n",
              "      <th>financial Operators</th>\n",
              "      <td>7702</td>\n",
              "    </tr>\n",
              "    <tr>\n",
              "      <th>Business Operators</th>\n",
              "      <td>7327</td>\n",
              "    </tr>\n",
              "    <tr>\n",
              "      <th>Community and Social Workers</th>\n",
              "      <td>6025</td>\n",
              "    </tr>\n",
              "    <tr>\n",
              "      <th>Lawyers, Judges,Physicans and dentists</th>\n",
              "      <td>3835</td>\n",
              "    </tr>\n",
              "    <tr>\n",
              "      <th>Farming, Fishing &amp; Forestry</th>\n",
              "      <td>2360</td>\n",
              "    </tr>\n",
              "  </tbody>\n",
              "</table>\n",
              "</div><br><label><b>dtype:</b> int64</label>"
            ]
          },
          "metadata": {},
          "execution_count": 8
        }
      ],
      "source": [
        "occupations= df.groupby('occupation').size()\n",
        "occupations.sort_values(ascending=False)"
      ]
    },
    {
      "cell_type": "markdown",
      "metadata": {
        "id": "S8QRHfdpexKT"
      },
      "source": [
        "What is the most common profession?\n",
        "\n",
        "\n",
        "# Distributions\n",
        "\n",
        "Now that we've cleaned our data up, let's have a closer look at the *distribution* of our data. The best way to do this is using a histogram, which takes one variable and divides its values into a number of bins shown on the X axis, and then counts the number of observations in each of those bins on the Y axis. Let's start by looking at the distribution of the `income` variable:"
      ]
    },
    {
      "cell_type": "code",
      "execution_count": 9,
      "metadata": {
        "colab": {
          "base_uri": "https://localhost:8080/",
          "height": 689
        },
        "id": "BcAJvO09RUqk",
        "outputId": "3cef67f8-dac6-4f6b-8e82-d339d410918e"
      },
      "outputs": [
        {
          "output_type": "display_data",
          "data": {
            "text/plain": [
              "<Figure size 1000x800 with 1 Axes>"
            ],
            "image/png": "[encoded data removed]"
          },
          "metadata": {}
        }
      ],
      "source": [
        "df=df[df['year']==2013] # filter the dataframe to only contain 2013 data\n",
        "\n",
        "plt.hist(df['income']) # plot a histogram of the income variable\n",
        "plt.show() # show the plot"
      ]
    },
    {
      "cell_type": "markdown",
      "metadata": {
        "id": "p5Dzi8nSIdU9"
      },
      "source": [
        "This is a pretty ugly histogram, and it's not telling us very much useful information. It shows that the vast majority of people make between 0 and $100,000 per year, and a few make over 200k. A small number make over $1 million per year, so the plot is being extended to accomodate these outliers. Let's try fixing the histogram up a bit."
      ]
    },
    {
      "cell_type": "code",
      "execution_count": 10,
      "metadata": {
        "colab": {
          "base_uri": "https://localhost:8080/",
          "height": 746
        },
        "id": "_SmrEOCJRUqk",
        "outputId": "89e6e3cf-66e4-40c4-d349-07915d5e62c1"
      },
      "outputs": [
        {
          "output_type": "display_data",
          "data": {
            "text/plain": [
              "<Figure size 1000x800 with 1 Axes>"
            ],
            "image/png": "[encoded data removed]"
          },
          "metadata": {}
        }
      ],
      "source": [
        "plt.hist(df['income'], bins=100, edgecolor='white', density=True)\n",
        "# i've increased the number of bins to 100 to make the plot smoother,\n",
        "# added the density=True argument to make the y-axis a probability density instead of a count,\n",
        "# and the edgecolor='white' argument to add some space between the bars, making the plot easier to read\n",
        "\n",
        "\n",
        "plt.xlabel('Income ($, thousands)') # add a label to the x axis\n",
        "plt.title(\"U.S. Income Distributon, 2013\") # add a title to the plot\n",
        "\n",
        "plt.show()"
      ]
    },
    {
      "cell_type": "markdown",
      "metadata": {
        "id": "p_aQYMNUIdU9"
      },
      "source": [
        "That's better. We can now see more variation in how much people earn within the \\$0-200,000 range since we increased the number of bins in the histogram. It could still be improved, though. The outliers making over $ 1 million are creating lots of dead space in this plot. We can defensibly omit them from the plot, as long as we acknowledge that we've done this somewhere in our analysis.\n",
        "\n",
        "Let's also plot the mean and median of our distribution."
      ]
    },
    {
      "cell_type": "code",
      "execution_count": null,
      "metadata": {
        "colab": {
          "base_uri": "https://localhost:8080/"
        },
        "id": "DkDj9uqKRUqk",
        "outputId": "28979b47-c449-4451-9974-e20b2931d005"
      },
      "outputs": [
        {
          "output_type": "stream",
          "name": "stdout",
          "text": [
            "mean    51.821863\n",
            "50%     40.000000\n",
            "std     60.163449\n",
            "Name: income, dtype: float64\n"
          ]
        }
      ],
      "source": [
        "inc_summary=df['income'].describe() # get summary statistics for the income variable using the describe() method, and store them in a variable called inc_summary\n",
        "print(inc_summary[['mean','50%','std']]) # print the mean, median and standard deviation\n",
        "\n",
        "plt.hist(df['income'], bins=100, edgecolor='white', density=True) # plot the histogram again\n",
        "plt.axvline(inc_summary['mean'], color='red', linestyle='dashed', linewidth=1,label='Mean') # get the mean from the inc_summary variable and plot a vertical line in red at that point\n",
        "plt.axvline(inc_summary['50%'], color='black', linestyle='dashed', linewidth=1, label='Median') # do the same for the median, but plot it in black\n",
        "\n",
        "plt.legend()\n",
        "plt.xlabel('Income ($, thousands')\n",
        "plt.title(\"U.S. Income Distributon, 2013\")\n",
        "plt.xlim(0,250) # set the x-axis limits to 0 to 250-- this will get rid of the outliers on the right side of the plot\n",
        "\n",
        "plt.show()"
      ]
    },
    {
      "cell_type": "markdown",
      "metadata": {
        "id": "_oF45jgnIdU9"
      },
      "source": [
        "This histogram is far more informative-- use the questions in the exercise below to guide your interpretation of this plot.\n",
        "\n",
        "### Exercise\n",
        "\n",
        "1. What is the (approximate) mean of this distribution?\n",
        "2. What is the median?\n",
        "3. Keeping in mind that we've excluded some extreme values, why might the mean be larger than the median? Intepret this qualitatively in reference to income inequality.\n",
        "4. There are slight bumps in density at $100,000, $150,000, $200,000, and $250,000. Why might this be?"
      ]
    },
    {
      "cell_type": "markdown",
      "metadata": {
        "id": "r426FuetIdU9"
      },
      "source": [
        "As we have seen, there are a few extreme outliers in the income distribution (really rich people). Outliers can bias some statistical tests, so for the rest of this workbook, we're going to subset our dataframe to exclude those who make over $200k per year:"
      ]
    },
    {
      "cell_type": "code",
      "execution_count": null,
      "metadata": {
        "id": "Wxjm9hFHIdU9"
      },
      "outputs": [],
      "source": [
        "df=df[df['income']<200]\n"
      ]
    },
    {
      "cell_type": "markdown",
      "metadata": {
        "id": "nrM4FN2wIdU9"
      },
      "source": [
        "## Functions\n",
        "\n",
        "Now we've got a pretty good sense of what's going on with the income variable. But suppose we want to do this for another variable. We could just copy and paste the code above, switch around the variable in question, and edit the labels. But there's a far more efficient way of doing things. In Python and most programming languages, you can write your own **function**.\n",
        "\n",
        "A function is a block of code that you can call on to do a specific task. You can write your own functions, or you can use functions that other people have written. Functions are useful because they allow you to write code once, and then call on it whenever you need it. This is much more efficient than writing the same code over and over again. You can define a function by using the `def` keyword. For example, we can define a function called `variable_stats` that will calculate the mean, median, and standard deviation of the variable tha you specify."
      ]
    },
    {
      "cell_type": "code",
      "execution_count": null,
      "metadata": {
        "id": "qzCRjCuKIdU9"
      },
      "outputs": [],
      "source": [
        "def variable_stats(variable): # define a function called variable_stats that takes a variable as an argument\n",
        "    mean = variable.mean() # calculate the mean of the variable\n",
        "    median = variable.median() # calculate the median of the variable\n",
        "    std = variable.std() # calculate the standard deviation of the variable\n",
        "    print(\"Mean: \" + str(mean)) # print the mean\n",
        "    print(\"Median: \" + str(median)) # print the median\n",
        "    print(\"Standard deviation: \" + str(std)) # print the standard deviation"
      ]
    },
    {
      "cell_type": "code",
      "execution_count": null,
      "metadata": {
        "id": "gqs2DmdaIdU9"
      },
      "outputs": [],
      "source": [
        "# We can then call on this function whenever we want to calculate these statistics.\n",
        "\n",
        "variable_stats(df['income'])"
      ]
    },
    {
      "cell_type": "markdown",
      "metadata": {
        "id": "rGAWDtnNIdU9"
      },
      "source": [
        "Now, to calculate the same values for the age variable, we can simply change which variable we feed the function:"
      ]
    },
    {
      "cell_type": "code",
      "execution_count": null,
      "metadata": {
        "id": "Q-GOybWwIdU9"
      },
      "outputs": [],
      "source": [
        "variable_stats(df['age'])"
      ]
    },
    {
      "cell_type": "markdown",
      "metadata": {
        "id": "N-5PwmbiIdU9"
      },
      "source": [
        "We can write a more complex function to deal with plotting new histograms for different variables, since most of the code we need to plot a histogram won't change from one variable to the next. A few things will change-- the variable that we're plotting, the title of the graph, and the labels on the x and y axes, and perhaps the number of bins. We can write a function called `plot_histogram`  that takes these four things as arguments, and then plots a histogram. Then, we can call on this function whenever we want to plot a histogram of a new variable. Below is the same code we used to plot the histogram of income, but this time we've written it as a function called `plot_histogram` and substituted the variable name `income` for the argument `variable`."
      ]
    },
    {
      "cell_type": "code",
      "execution_count": null,
      "metadata": {
        "id": "qFXLET9HRUqk"
      },
      "outputs": [],
      "source": [
        "def plot_histogram(variable, bin_number, xlab, title): # define a function called plot_histogram that takes a variable, number of bins, x-axis label, and title as arguments\n",
        "\n",
        "\tsummary=variable.describe()\n",
        "\tplt.hist(variable, bins=bin_number,edgecolor='white', density=True) # plot the histogram. Notice i've changed \"bins=100\" to \"bins=bin_number\" so that the number of bins can be specified when the function is called\n",
        "\tplt.axvline(summary['mean'], color='red', linestyle='dashed', linewidth=1,label='Mean '+str(round(summary['mean'],2)))\n",
        "\tplt.axvline(summary['50%'], color='black', linestyle='dashed', linewidth=1, label='Median '+str(round(summary['50%'],2)))\n",
        "\n",
        "\tplt.legend()\n",
        "\tplt.xlabel(xlab) # i've changed the x-axis label to \"xlab\" so that it can be specified when the function is called\n",
        "\tplt.title(title) # similarly, we can now specify the title when calling the function\n",
        "\tplt.show()"
      ]
    },
    {
      "cell_type": "markdown",
      "metadata": {
        "id": "5QAhKCcFIdU9"
      },
      "source": [
        "Now we can just call the function with the variable we want to plot, the number of bins, the x-axis label, and the title using one line of code. Let's recreate the histogram of income from above, but this time using the function we just defined:\n"
      ]
    },
    {
      "cell_type": "code",
      "execution_count": null,
      "metadata": {
        "id": "-PndCtu3IdU9"
      },
      "outputs": [],
      "source": [
        "plot_histogram(variable = df['income'], bin_number = 20, xlab = 'Income ($, 000)', title = 'U.S. Income Distribution, 2013')"
      ]
    },
    {
      "cell_type": "markdown",
      "metadata": {
        "id": "uy9oLE_PIdU9"
      },
      "source": [
        "If we want to produce lots of similar plots, this really helps us cut down on repetition.\n",
        "\n",
        "### Exercise\n",
        "\n",
        "1. Plot the histogram of the 'age' variable with 80 bins, label the x-axis \"Age\", and add title of 'U.S. Age Distribution, 2013'.\n",
        "2. Plot the distribution of schooling years.\n",
        "    * Find an appropriate number of bins\n",
        "    * Label it clearly\n",
        "    * Interpret salient trends"
      ]
    },
    {
      "cell_type": "code",
      "execution_count": null,
      "metadata": {
        "id": "QGhXDOwJIdU-"
      },
      "outputs": [],
      "source": []
    },
    {
      "cell_type": "code",
      "execution_count": null,
      "metadata": {
        "id": "fzoiD0gnRUqk"
      },
      "outputs": [],
      "source": []
    },
    {
      "cell_type": "markdown",
      "metadata": {
        "id": "fpV3f7iNIdVB"
      },
      "source": [
        "## The Central Limit Theorem\n",
        "\n",
        "But as we learned in class, the Central Limit Theorem states that the **distribution of the mean of a sample of observations will be approximately normal, regardless of the distribution of the original observations**. So, if we take a **large enough sample** of observations from each of these variables, and calculate the mean of each sample, we should get a normal distribution. This is important because the normal distribution behaves in a very predictable way.\n",
        "\n",
        "The code below creates a \"standard normal\" distribution with a mean of 0 and a standard deviation of 1:"
      ]
    },
    {
      "cell_type": "code",
      "execution_count": null,
      "metadata": {
        "id": "ShIGwssrRUqm"
      },
      "outputs": [],
      "source": [
        "mu, se= 0, 1 # create two variables, a mean \"mu\" equal to zero, and standard deviation \"se\" equal to 1\n",
        "x = np.linspace(mu - 3*se, mu + 3*se, 100) # create a range of values from -3 to 3 standard deviations\n",
        "\n",
        "plt.plot(x, norm.pdf(x, mu, se)) # plot the normal distribution\n",
        "plt.axvline(mu, color='black', linestyle='solid', linewidth=1,label='µ')  # plot a vertical line at the mean\n",
        "plt.axvline(mu-se*2, color='black', linestyle='dashed', linewidth=1.5,label='µ ± 2σ') # plot a vertical line at the mean plus 2 standard deviations\n",
        "plt.axvline(mu+se*2, color='black', linestyle='dashed', linewidth=1.5)  # plot a vertical line at the mean minus 2 standard deviations\n",
        "plt.legend()\n",
        "plt.show()"
      ]
    },
    {
      "cell_type": "markdown",
      "metadata": {
        "id": "e3D4I12pIdVB"
      },
      "source": [
        "for a distribution with this shape,\n",
        "\n",
        "    * 68% of the values will be within 1 standard deviation of the mean\n",
        "    * 95.45% of the values will be within 2 standard deviations of the mean\n",
        "    * 99.7% of the values will be within 3 standard deviations of the mean\n",
        "\n",
        "so in the plot above, if I took a random value from the distribution, there's a 95% chance that it would be between -2 and 2 (within the dotted lines), and a 99.7% chance that it would be between -3 and 3.\n",
        "\n",
        "It's crucial to note, however, that this applies to the mean of a sample, not individual observations. For example, this doesnt mean that there is a 95% chance that an individual taken at random will have an income that is within 2 standard deviations of the mean ($46k). It means that if we take a sample of 100 observations, there is a 95% chance that the **mean of that sample** will be within 2 standard deviations of the mean ($46k).\n",
        "\n",
        "### Sampling\n",
        "\n",
        "To illustrate how this works, for the rest of this workshop we're going to pretend that the dataframe contains the entire adult **population** of the United States (of course, it is actually a sample but just pretend). The mean of this distribution will thus be the **population mean**; for the income variable, this is $46k.\n",
        "\n",
        "We can use the `sample` function to take a random sample of observations from a distribution. We'll take a sample of 5 observations from the income variable and use the `mean` function to calculate the mean of this sample."
      ]
    },
    {
      "cell_type": "code",
      "execution_count": null,
      "metadata": {
        "id": "vpBxkHJEIdVB"
      },
      "outputs": [],
      "source": [
        "income_sample = df['income'].sample(5, replace=True) # take a random sample of 10 observations from the income variable\n",
        "income_sample_mean=income_sample.mean() # calculate the mean of the sample\n",
        "print(\"Mean: \" + str(income_sample_mean)) # print the sample mean"
      ]
    },
    {
      "cell_type": "markdown",
      "metadata": {
        "id": "A_kY4VTiIdVB"
      },
      "source": [
        "### Exercise\n",
        "\n",
        "1. Run the code cell above 10 times and make note of the mean. What is the farthest the sample mean deviates from the \"population\" mean of $51k?\n",
        "2. Increase the sample size from 5 to 100 and run the cell 10 more times. Now, what is the farthest the sample mean deviates from the population mean?\n",
        "3. Increase the sample size to 1000. What do you notice about the sample means as we increase the sample size?"
      ]
    },
    {
      "cell_type": "markdown",
      "metadata": {
        "id": "fH23mb8aIdVB"
      },
      "source": [
        "Hopefully, you will have noticed that as the sample size increases, the sample means tend to be closer to the population mean. But clicking that cell is hard work. Let's create a loop that will run that block of code 10000 times, save the sample means in a list, and plot the distribution of sample means as a histogram. Once again, we'll start by only drawing samples of 10 observations:"
      ]
    },
    {
      "cell_type": "code",
      "execution_count": null,
      "metadata": {
        "id": "hhZ7gCPyIdVB"
      },
      "outputs": [],
      "source": [
        "#create an empty list to store sample means\n",
        "sample_means=[]\n",
        "\n",
        "sample_size=10\n",
        "# loop 10,000 times.\n",
        "for i in range(0,10000):\n",
        "    sample= df['income'].sample(sample_size, replace=True) # draw a sample of 10 observations from the income variable, with replacement\n",
        "    sample_mean=sample.mean() # calculate the mean of the sample\n",
        "    sample_means.append(sample_mean) # append the sample mean to the list of sample means\n",
        "\n",
        "plt.hist(sample_means, bins=30, edgecolor='white', density=True) # plot a histogram of the sample means\n",
        "plt.title('Distribution of Sample Means (n={})'.format(sample_size)) # add a title\n",
        "plt.show()"
      ]
    },
    {
      "cell_type": "markdown",
      "metadata": {
        "id": "kq07cTStIdVB"
      },
      "source": [
        "### Exercise\n",
        "\n",
        "    1. Edit the code block above so that instead of drawing samples of 10 observations, it draws samples of 1000 observations\n",
        "    2. What happens to the distribution?"
      ]
    },
    {
      "cell_type": "markdown",
      "metadata": {
        "id": "4mA1g4ZPIdVB"
      },
      "source": [
        "When we draw 10,000 samples of 1000 observations each, the distribution of sample means looks a lot more normally distributed than the underlying distribution of income itself, which is skewed to the right. To show how normally distributed it is, let's overlay the normal distribution line we plotted earlier and fit it to the distribution of sample means. We'll start off by making the same histogram of sample means, but add a line plot of the normal distribution and some droplines at ± 2 standard deviations.\n",
        "\n",
        "Because we may want to do this for several different variables, let's once again package our code as a function in which we can swap around a couple bits. In this case, we may want to swap around the variable we're plotting, the label on the x-axis, and the size of the samples we're drawing. So we'll create a function called `plot_sample_means` that takes these three things as arguments (`var`, `xlab`, and `sample_size`)."
      ]
    },
    {
      "cell_type": "code",
      "execution_count": null,
      "metadata": {
        "id": "8q2AWqv6IdVB"
      },
      "outputs": [],
      "source": [
        "def plot_sample_means(var, xlab, sample_size): # define a function called plot_sample_means that takes a variable, x-axis label, and sample size as arguments\n",
        "\n",
        "    #create an empty list to store sample means\n",
        "    sample_means=[]\n",
        "\n",
        "    # loop 10,000 times.\n",
        "    for i in range(0,10000):\n",
        "        # for each iteration, draw a sample of the size specified by the \"sample_size\" parameter\n",
        "        sample=var.sample(sample_size, replace=True)\n",
        "        # calculate the mean, and append it to the list of sample means.\n",
        "        sample_mean=sample.mean()\n",
        "        sample_means.append(sample_mean)\n",
        "\n",
        "    # now, plot a histogram\n",
        "    plt.hist(sample_means, color='blue',alpha=0.5, bins=int(30), edgecolor='white', density=True)\n",
        "\n",
        "    # fit a normal distribution to the data\n",
        "    mu, se = norm.fit(sample_means)\n",
        "    xmin, xmax = plt.xlim()\n",
        "    x = np.linspace(xmin, xmax, 100)\n",
        "    p = norm.pdf(x, mu, se)\n",
        "    plt.plot(x, p, 'k', linewidth=2)\n",
        "\n",
        "    # calculate the difference between the mean of the sample means\n",
        "    diff=abs(mu-var.mean())\n",
        "\n",
        "    # add droplines, labels, title, legend, and limit the x-axis range to 3 standard deviations from the mean on either side.\n",
        "    plt.axvline(mu, color='green', linestyle='solid', linewidth=3,label='µx̄='+str(round(mu, 3)))\n",
        "    plt.axvline(mu-se*2, color='black', linestyle='dashed', linewidth=1.5,label='µ ± 2σ')\n",
        "    plt.axvline(mu+se*2, color='black', linestyle='dashed', linewidth=1.5)\n",
        "    plt.legend()\n",
        "    plt.xlabel(xlab)\n",
        "    plt.title('Distribution of Sample Means (n={})'.format(sample_size))\n",
        "    plt.xlim(mu-se*3, mu+se*3)\n",
        "    plt.show()"
      ]
    },
    {
      "cell_type": "code",
      "execution_count": null,
      "metadata": {
        "id": "NaVwxIM8IdVC"
      },
      "outputs": [],
      "source": [
        "plot_sample_means(df['income'], xlab='Income, ($, 000)', sample_size=1000)"
      ]
    },
    {
      "cell_type": "markdown",
      "metadata": {
        "id": "QAIeCn_XIdVC"
      },
      "source": [
        "We can see that the distribution of sample means (for samples of 1000 people) very closely approximates the normal distribution. The addition of droplines at ±2σ tells us that **if we take a random sample of 1000 people, there is a 95% chance that the mean of this sample will fall between ~$44.7k and ~$48.8k**.\n",
        "\n",
        "Why is this important? let's see what happens when we filter the sample based on peoples' attributes. The code below creates two dataframes: one called `men` which only contains male respondents, and one called `women` which only contains female respondents. Then, we run the `plot_sample_means()` function on each of these dataframes."
      ]
    },
    {
      "cell_type": "code",
      "execution_count": null,
      "metadata": {
        "id": "m_qZ-9fFIdVC"
      },
      "outputs": [],
      "source": [
        "men=df[df['sex']==1]['income'] # create a new dataframe containing only income values for men\n",
        "women=df[df['sex']==2]['income'] # create a new dataframe containing only income values for women\n",
        "\n",
        "plot_sample_means(men, xlab='Income, ($, 000)', sample_size=500)\n",
        "plot_sample_means(women, xlab='Income, ($, 000)', sample_size=500)"
      ]
    },
    {
      "cell_type": "markdown",
      "metadata": {
        "id": "DFz8ThdAIdVC"
      },
      "source": [
        "### Exercise\n",
        "\n",
        "    1. These two histograms may look the same, but look closely at the values.\n",
        "    2. The population mean income for women is around $39.6k. Based on the histogram of sample means taken from only men,\n",
        "        * What is the likelihood of observing a sample mean of $39.6k among men due to random chance?\n",
        "    3. Interpret this finding qualitatively."
      ]
    },
    {
      "cell_type": "markdown",
      "metadata": {
        "id": "so0p02NYIdVC"
      },
      "source": [
        "The plot of incomes for men and women show very different distributions, but they look quite similar. To make this more readable, let's define one last function that can take two or more groups and plot the distribution of their sample means on the same plot:"
      ]
    },
    {
      "cell_type": "code",
      "execution_count": null,
      "metadata": {
        "id": "BZn4sX5vIdVC"
      },
      "outputs": [],
      "source": [
        "def two_hist(groups,group_labs,xlab, title): # define a function called two_hist that takes a list of groups, a list of group labels, an x-axis label, and a title as arguments\n",
        "\n",
        "\t\tplt.figure(figsize=(15,6)) # set the figure size\n",
        "\n",
        "\t\tit=-1 # create a counter variable called \"it\" and set it equal to -1\n",
        "\t\tfor var in groups: # loop through each group in the list of groups\n",
        "\t\t\tit+=1 # increase the iterator by 1\n",
        "\t\t\tsample_size=1000 # set the sample size equal to 1000\n",
        "\t\t\tsample_means=[] # create an empty list to store sample means\n",
        "\t\t\titerations=10000 # set the number of iterations equal to 10,000\n",
        "\n",
        "\t\t\tfor i in range(0,iterations): # loop through the number of iterations\n",
        "\t\t\t\tsample=var.sample(sample_size, replace=True) # draw a sample of the size specified by the \"sample_size\" parameter\n",
        "\t\t\t\tsample_mean=sample.mean() # calculate the mean of the sample\n",
        "\t\t\t\tsample_means.append(sample_mean) # append the sample mean to the list of sample means\n",
        "\n",
        "\t\t\tplt.hist(sample_means, bins=int(iterations/300),edgecolor='white',density=True, label=group_labs[it])  # plot a histogram of the sample means\n",
        "\t\t\tmu, se = norm.fit(sample_means) # fit a normal distribution to the data\n",
        "\t\t\txmin, xmax = plt.xlim() # set the x-axis limits\n",
        "\t\t\tx = np.linspace(xmin, xmax, 100) # create a range of values from the minimum to the maximum x-axis value\n",
        "\t\t\tp = norm.pdf(x, mu, se) # calculate the probability density function for the normal distribution\n",
        "\n",
        "\t\t\tmean=var.mean() # calculate the mean of the variable\n",
        "\t\t\tlower_ci=mu-se*1.96 # calculate the lower bound of the 95% confidence interval\n",
        "\t\t\tupper_ci=mu+se*1.96 # calculate the upper bound of the 95% confidence interval\n",
        "\n",
        "\t\t\tplt.plot(x, p, 'k', linewidth=2) # plot the normal distribution\n",
        "\t\t\tplt.xlabel(xlab) # add an x-axis label\n",
        "\t\t\tplt.title(title) # add a title\n",
        "\t\t\tplt.axvline(mean, color='green', linestyle='solid', linewidth=3) # add a vertical line at the mean of the variable\n",
        "\t\t\tplt.axvline(lower_ci, color='black', linestyle='dashed', linewidth=1.5) # add a vertical line at the mean minus 2 standard deviations\n",
        "\t\t\tplt.axvline(upper_ci, color='black', linestyle='dashed', linewidth=1.5) # add a vertical line at the mean plus 2 standard deviations\n",
        "\t\t\tplt.legend() # add a legend\n",
        "\n",
        "\t\tplt.show()  # show the plot\n"
      ]
    },
    {
      "cell_type": "code",
      "execution_count": null,
      "metadata": {
        "id": "7ECITNUQIdVC"
      },
      "outputs": [],
      "source": [
        "two_hist([men,women],['Men','Women'],'Income ($, thousands)', \"Income Sample Means\")"
      ]
    },
    {
      "cell_type": "markdown",
      "metadata": {
        "id": "pBnDoh0NIdVC"
      },
      "source": [
        "There we have it: A stark, quantitative representation of the gender wage gap.\n",
        "\n",
        "If we simply compared the means between a sample of women and a sample of men, the best we could do in terms of inference would be to say something like \"the average income for men was $14.2k higher than it was for women.\" Though this is an important finding, the central limit theorem lets us add important context.\n",
        "\n",
        "    1. We took 10,000 large samples of men and calculated the means of each sample.\n",
        "    2. We found that over 99.7% of them were greater than $50,000.\n",
        "    3. We took 10,000 large samples of women and calculated the means of each sample.\n",
        "    4. We found that over 99.7% of them were smaller than $44,000.\n",
        "\n",
        "The fact that the distribution of income sample means between men and women do not overlap at all tells us that the probability of this variation in incomes being due to random chance is extremely, extremely small. Thus, we can say that the observed difference in income between men and women is **statistically significant**.\n"
      ]
    },
    {
      "cell_type": "markdown",
      "metadata": {
        "id": "joWdQjYrIdVC"
      },
      "source": [
        "# Assessed Question\n",
        "\n",
        "Given that we've used functions to create these plots, we can make plots with different data relatively easily. As a reminder, here are the values for the sex, race, and schooling variable in our dataframe:\n",
        "\n",
        "1. *year*: Survey year\n",
        "2. *age*: the person's age\n",
        "3. *sex*: the person's sex\n",
        "    * 1=male\n",
        "    * 2=female\n",
        "4. *race*: the person's race\n",
        "    * White non hispanic=1\n",
        "    * Black non hispanic=2\n",
        "    * Hispanic=3\n",
        "    * Other non hispanic=4\n",
        "5. *sch*: Educational attainment\n",
        "    * None = 0,\n",
        "    * Grades 1-12 = 1-12\n",
        "    * Some University = 13,\n",
        "    * Associate's degree = 14,\n",
        "    * BA = 16\n",
        "    * Advanced Degree = 18\n",
        "6. *union*: Union membership\n",
        "    * N/A = 0,\n",
        "    * No union coverage = 1,\n",
        "    * Member of labor union=2,\n",
        "    * Covered by union but not a member=3\n",
        "7. *incwage*: Wage and salary income\n",
        "8. *realhrwage*: Real Hourly Wage\n",
        "9. *occupation*: Occupation\n",
        "10. *ind*: [industry code](https://www.census.gov/naics/?58967?yearbck=2002)\n",
        "\n",
        "Intersectionality is an important consideration when thinking about inequality.\n",
        "\n",
        "1. Create a new dataframe which restricts the census data to just white men who have completed highschool (and only highschool).\n",
        "2. Do the same for hispanic women with a Bachelor's degree (and only a Bachelor's).\n",
        "3. Use the `two_hist()` function above to plot these two income groups against each other.\n",
        "\n",
        "*Part A:*\n",
        "\n",
        "4. Modify the function to ascertain the absolute difference in *population means* (i.e., the mean of sample means) between these two groups. Round the result to an integer.  \n",
        "\n",
        "*Part B:*\n",
        "\n",
        "5. Is this difference likely to occur due to random chance? Answer using a 95% confidence interval.  "
      ]
    },
    {
      "cell_type": "code",
      "execution_count": null,
      "metadata": {
        "id": "3cbcbK3jIdVC"
      },
      "outputs": [],
      "source": [
        "# Question 1\n",
        "whitemen_highschool = df[(df['sex'] == 1) & (df['race'] == 1) & (df['sch'] == 12)]['income']\n",
        "\n",
        "# Question 2\n",
        "hispanicwomen_bach = df[(df['sex'] == 2) & (df['race'] == 3) & (df['sch'] == 16)]['income']\n",
        "\n",
        "# Question 3\n",
        "two_hist([whitemen_highschool, hispanicwomen_bach], ['White Men, High School', 'Hispanic Women, Bachelors'],'Income ($, thousands)', 'Incomes of High School Graduate White Men vs Bachelor Graduate Hispanic Women')\n",
        "\n"
      ]
    }
  ],
  "metadata": {
    "colab": {
      "provenance": [],
      "include_colab_link": true
    },
    "kernelspec": {
      "display_name": "Python 3.9.5 64-bit ('3.9.5')",
      "language": "python",
      "name": "python3"
    },
    "language_info": {
      "codemirror_mode": {
        "name": "ipython",
        "version": 3
      },
      "file_extension": ".py",
      "mimetype": "text/x-python",
      "name": "python",
      "nbconvert_exporter": "python",
      "pygments_lexer": "ipython3",
      "version": "3.9.5"
    },
    "vscode": {
      "interpreter": {
        "hash": "d34fbd810dd9652f8e464616181cf14dbb258b5c046bed5c2f54c6b5e518fed2"
      }
    }
  },
  "nbformat": 4,
  "nbformat_minor": 0
}